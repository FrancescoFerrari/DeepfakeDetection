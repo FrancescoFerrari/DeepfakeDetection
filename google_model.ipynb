{
 "cells": [
  {
   "cell_type": "code",
   "execution_count": 1,
   "metadata": {},
   "outputs": [
    {
     "name": "stderr",
     "output_type": "stream",
     "text": [
      "Using TensorFlow backend.\n"
     ]
    }
   ],
   "source": [
    "import numpy as np\n",
    "import pandas as pd\n",
    "import os\n",
    "import matplotlib\n",
    "import matplotlib.pyplot as plt\n",
    "%matplotlib inline\n",
    "from random import randrange\n",
    "import cv2 as cv\n",
    "import pickle\n",
    "\n",
    "\n",
    "from tensorflow import keras\n",
    "from keras.layers import *\n",
    "from keras.models import Sequential\n",
    "from keras import optimizers\n",
    "from tensorflow.keras.callbacks import EarlyStopping"
   ]
  },
  {
   "cell_type": "code",
   "execution_count": 2,
   "metadata": {},
   "outputs": [],
   "source": [
    "# our num of classes\n",
    "NUM_CLASSES = 2\n",
    "\n",
    "# Fixed for color images\n",
    "CHANNELS = 3\n",
    "\n",
    "IMAGE_RESIZE = 180\n",
    "RESNET50_POOLING_AVERAGE = 'avg'\n",
    "DENSE_LAYER_ACTIVATION = 'softmax'\n",
    "OBJECTIVE_FUNCTION = 'categorical_crossentropy'\n",
    "\n",
    "LOSS_METRICS = ['accuracy']\n",
    "\n",
    "# EARLY_STOP_PATIENCE must be < NUM_EPOCHS\n",
    "NUM_EPOCHS = 10\n",
    "EARLY_STOP_PATIENCE = 3\n",
    "\n",
    "# These steps value should be proper FACTOR of no.-of-images in train & valid folders respectively\n",
    "# Training images processed in each step would be no.-of-train-images / STEPS_PER_EPOCH_TRAINING\n",
    "STEPS_PER_EPOCH_TRAINING = 10\n",
    "STEPS_PER_EPOCH_VALIDATION = 10\n",
    "\n",
    "# These steps value should be proper FACTOR of no.-of-images in train & valid folders respectively\n",
    "# NOTE that these BATCH* are for Keras ImageDataGenerator batching to fill epoch step input\n",
    "# BATCH_SIZE_TRAINING = 100\n",
    "# BATCH_SIZE_VALIDATION = 100\n",
    "\n",
    "# Using 1 to easily manage mapping between test_generator & prediction for submission preparation\n",
    "BATCH_SIZE_TESTING = 1\n"
   ]
  },
  {
   "cell_type": "code",
   "execution_count": 3,
   "metadata": {},
   "outputs": [],
   "source": [
    "GOOGLE_DATA_FOLDER='/home/fra/Scrivania/Deepfake-Detection/dataset/GoogleAi'\n",
    "\n",
    "#input folder google\n",
    "ORIGINAL_FOLDER='original_sequences'\n",
    "MANIPULATED_FOLDER='fake_sequences'\n",
    "\n",
    "#output folder preprocess google\n",
    "IMG_ORIGINAL_FOLDER  ='/home/fra/Scrivania/Deepfake-Detection/dataset/preprocess-output/png_real'\n",
    "IMG_MANIPULATED_FOLDER='/home/fra/Scrivania/Deepfake-Detection/dataset/preprocess-output/png_fake'"
   ]
  },
  {
   "cell_type": "code",
   "execution_count": 5,
   "metadata": {},
   "outputs": [
    {
     "name": "stdout",
     "output_type": "stream",
     "text": [
      "DATA Saved\n"
     ]
    }
   ],
   "source": [
    "from keras.preprocessing.image import img_to_array, load_img\n",
    "\n",
    "\n",
    "train_original    = os.listdir(IMG_ORIGINAL_FOLDER)\n",
    "train_manipulated = os.listdir(IMG_MANIPULATED_FOLDER)\n",
    "\n",
    "\n",
    "X = []\n",
    "Y = []\n",
    "\n",
    "FRAME_X_VIDEO=5\n",
    "\n",
    "MAX_VIDEO_REAL=200\n",
    "MAX_VIDEO_FAKE=200\n",
    "\n",
    "count_real=0\n",
    "\n",
    "\n",
    "while count_real<MAX_VIDEO_REAL:\n",
    "    next_video_index = randrange(0,len(train_original))\n",
    "    #randomly we choose a video_dir from the train folder\n",
    "    video_dir=train_original[next_video_index]\n",
    "    #randomly from that video_folder we choose some frame for the training\n",
    "    frames_taken=0\n",
    "    candidate_frame= list(os.listdir(os.path.join(IMG_ORIGINAL_FOLDER, video_dir)))\n",
    "    if len(candidate_frame)>20:\n",
    "        count_real+=1        \n",
    "        while frames_taken<FRAME_X_VIDEO:\n",
    "            random_index=randrange(0,len(candidate_frame))  \n",
    "            X.append(img_to_array(\n",
    "                load_img(\n",
    "                os.path.join(IMG_ORIGINAL_FOLDER, video_dir,candidate_frame[random_index]),\n",
    "                target_size=(128, 128) )\n",
    "                    )            )\n",
    "            Y.append(0)\n",
    "            \n",
    "            frames_taken+=1\n",
    "            #remove the selected frame\n",
    "            del candidate_frame[random_index]\n",
    "        #remove the selected video from the frontier\n",
    "        del train_original[next_video_index]\n",
    "\n",
    "count_fake=0        \n",
    "        \n",
    "while count_fake<MAX_VIDEO_FAKE: \n",
    "    next_video_index = randrange(0,len(train_original))\n",
    "    #randomly we choose a video_dir from the train folder\n",
    "    video_dir=train_manipulated[next_video_index]\n",
    "    #randomly from that video_folder we choose some frame for the training\n",
    "    frames_taken=0\n",
    "    candidate_frame= list(os.listdir(os.path.join(IMG_MANIPULATED_FOLDER, video_dir)))\n",
    "    if len(candidate_frame)>20:\n",
    "        count_fake+=1        \n",
    "        while frames_taken<FRAME_X_VIDEO:\n",
    "            random_index=randrange(0,len(candidate_frame))  \n",
    "            X.append(img_to_array(\n",
    "                load_img(\n",
    "                os.path.join(IMG_MANIPULATED_FOLDER, video_dir,candidate_frame[random_index]),\n",
    "                target_size=(128, 128) )\n",
    "                    )            )\n",
    "            Y.append(0)\n",
    "            \n",
    "            frames_taken+=1\n",
    "            #remove the selected frame\n",
    "            del candidate_frame[random_index]\n",
    "        #remove the selected video from the frontier\n",
    "        del train_manipulated[next_video_index]    \n",
    "\n",
    " \n",
    "data= {}\n",
    "data[\"X_train\"] = X\n",
    "data[\"Y_train\"] = Y\n",
    "\n",
    "\n",
    "output = open('train_400_google.pkl', 'wb')\n",
    "pickle.dump(data, output)\n",
    "output.close()\n",
    "print(\"DATA Saved\")   "
   ]
  },
  {
   "cell_type": "code",
   "execution_count": 13,
   "metadata": {},
   "outputs": [],
   "source": [
    "# load data file\n",
    "pkl_file1 = open('train_500_google.pkl', 'rb')\n",
    "train = pickle.load(pkl_file1)\n",
    "pkl_file1.close()\n",
    "X = train[\"X_train\"]\n",
    "Y = train[\"Y_train\"]\n",
    "\n",
    "# pkl_file2 = open('validation_100_kaggle.pkl', 'rb')\n",
    "# val = pickle.load(pkl_file2)\n",
    "# pkl_file2.close()\n",
    "# X_val = val[\"X_val\"]\n",
    "# Y_val = val[\"Y_val\"]\n"
   ]
  },
  {
   "cell_type": "code",
   "execution_count": 14,
   "metadata": {},
   "outputs": [],
   "source": [
    "from keras.utils import to_categorical\n",
    "from sklearn.model_selection import train_test_split\n",
    "\n",
    "#Normalization\n",
    "X = np.array(X)\n",
    "Y = to_categorical(Y, 2)\n",
    "\n",
    "# #Reshape\n",
    "X = X.reshape(-1, 128, 128, 3)\n",
    "\n",
    "# #Train-Test split\n",
    "X_train, X_val, Y_train, Y_val = train_test_split(X, Y, test_size = 0.2, random_state=5)"
   ]
  },
  {
   "cell_type": "code",
   "execution_count": 15,
   "metadata": {},
   "outputs": [
    {
     "name": "stdout",
     "output_type": "stream",
     "text": [
      "(2000, 128, 128, 3) (2000, 2) (500, 128, 128, 3)\n"
     ]
    }
   ],
   "source": [
    "print(X_train.shape,Y_train.shape,X_val.shape)"
   ]
  },
  {
   "cell_type": "code",
   "execution_count": 7,
   "metadata": {},
   "outputs": [],
   "source": [
    "#optimizer\n",
    "\n",
    "#ada_delta\n",
    "ada_delta = optimizers.Adadelta(lr=0.001, rho=0.95, epsilon=1e-07 )\n",
    "\n",
    "#adam\n",
    "adam=optimizers.Adam(lr=1e-5, decay=1e-6)\n",
    "\n",
    "#sgd with momentum\n",
    "epochs=10\n",
    "learning_rate = 0.1\n",
    "decay_rate = learning_rate / epochs\n",
    "momentum = 0.8\n",
    "sgd = optimizers.SGD(lr=learning_rate, momentum=momentum, decay=decay_rate, nesterov=False)\n"
   ]
  },
  {
   "cell_type": "code",
   "execution_count": 8,
   "metadata": {},
   "outputs": [],
   "source": [
    "#define a new activation\n",
    "\n",
    "from keras.backend import sigmoid\n",
    "\n",
    "def swish(x, beta = 1):\n",
    "    return (x * sigmoid(beta * x))\n",
    "\n",
    "from keras.utils.generic_utils import get_custom_objects\n",
    "from keras.layers import Activation\n",
    "get_custom_objects().update({'swish': Activation(swish)})\n"
   ]
  },
  {
   "cell_type": "code",
   "execution_count": 16,
   "metadata": {},
   "outputs": [
    {
     "name": "stdout",
     "output_type": "stream",
     "text": [
      "Model: \"sequential_2\"\n",
      "_________________________________________________________________\n",
      "Layer (type)                 Output Shape              Param #   \n",
      "=================================================================\n",
      "resnet50 (Model)             (None, 2048)              23587712  \n",
      "_________________________________________________________________\n",
      "dense_3 (Dense)              (None, 256)               524544    \n",
      "_________________________________________________________________\n",
      "dropout_2 (Dropout)          (None, 256)               0         \n",
      "_________________________________________________________________\n",
      "dense_4 (Dense)              (None, 2)                 514       \n",
      "=================================================================\n",
      "Total params: 24,112,770\n",
      "Trainable params: 24,059,650\n",
      "Non-trainable params: 53,120\n",
      "_________________________________________________________________\n"
     ]
    }
   ],
   "source": [
    "from keras.applications.resnet50 import ResNet50\n",
    "\n",
    "resnet = ResNet50(include_top = False, pooling = 'avg', weights='imagenet')\n",
    "resnet.trainable=True\n",
    "\n",
    "model = Sequential()\n",
    "model.add(resnet)\n",
    "model.add(Dense(256, activation='relu'))\n",
    "model.add(Dropout(.5))\n",
    "model.add(Dense(units=2, activation='softmax'))\n",
    "model.summary()"
   ]
  },
  {
   "cell_type": "code",
   "execution_count": 17,
   "metadata": {},
   "outputs": [],
   "source": [
    "model.compile(optimizer = sgd,\n",
    "              loss = 'categorical_crossentropy', metrics = LOSS_METRICS)\n",
    "\n",
    "\n",
    "early_stopping = EarlyStopping(monitor='val_loss', patience=2, verbose=0)\n"
   ]
  },
  {
   "cell_type": "code",
   "execution_count": 18,
   "metadata": {},
   "outputs": [
    {
     "name": "stdout",
     "output_type": "stream",
     "text": [
      "Train on 2000 samples, validate on 500 samples\n",
      "Epoch 1/10\n",
      "2000/2000 [==============================] - 534s 267ms/step - loss: 0.0646 - accuracy: 0.9705 - val_loss: 0.0000e+00 - val_accuracy: 1.0000\n",
      "Epoch 2/10\n",
      "2000/2000 [==============================] - 482s 241ms/step - loss: 0.0000e+00 - accuracy: 1.0000 - val_loss: 0.0000e+00 - val_accuracy: 1.0000\n",
      "Epoch 3/10\n",
      "2000/2000 [==============================] - 481s 240ms/step - loss: 0.0000e+00 - accuracy: 1.0000 - val_loss: 0.0000e+00 - val_accuracy: 1.0000\n",
      "Epoch 4/10\n",
      "2000/2000 [==============================] - 484s 242ms/step - loss: 0.0000e+00 - accuracy: 1.0000 - val_loss: 0.0000e+00 - val_accuracy: 1.0000\n",
      "Epoch 5/10\n",
      "2000/2000 [==============================] - 488s 244ms/step - loss: 0.0000e+00 - accuracy: 1.0000 - val_loss: 0.0000e+00 - val_accuracy: 1.0000\n",
      "Epoch 6/10\n",
      "2000/2000 [==============================] - 499s 250ms/step - loss: 1.1921e-10 - accuracy: 1.0000 - val_loss: 0.0000e+00 - val_accuracy: 1.0000\n",
      "Epoch 7/10\n",
      "2000/2000 [==============================] - 480s 240ms/step - loss: 0.0000e+00 - accuracy: 1.0000 - val_loss: 0.0000e+00 - val_accuracy: 1.0000\n",
      "Epoch 8/10\n",
      "2000/2000 [==============================] - 480s 240ms/step - loss: 0.0000e+00 - accuracy: 1.0000 - val_loss: 0.0000e+00 - val_accuracy: 1.0000\n",
      "Epoch 9/10\n",
      "2000/2000 [==============================] - 484s 242ms/step - loss: 0.0000e+00 - accuracy: 1.0000 - val_loss: 0.0000e+00 - val_accuracy: 1.0000\n",
      "Epoch 10/10\n",
      "2000/2000 [==============================] - 483s 241ms/step - loss: 0.0000e+00 - accuracy: 1.0000 - val_loss: 0.0000e+00 - val_accuracy: 1.0000\n"
     ]
    }
   ],
   "source": [
    "history1=model.fit(X_train, Y_train, \n",
    "                    batch_size = 100, \n",
    "                    epochs = 10, \n",
    "                    validation_data = (X_val, Y_val), \n",
    "                    verbose = 1)"
   ]
  },
  {
   "cell_type": "code",
   "execution_count": 19,
   "metadata": {},
   "outputs": [
    {
     "data": {
      "image/png": "[encoded data removed]",
      "text/plain": [
       "<Figure size 1440x288 with 2 Axes>"
      ]
     },
     "metadata": {
      "needs_background": "light"
     },
     "output_type": "display_data"
    }
   ],
   "source": [
    "EPOCHS=10\n",
    "\n",
    "\n",
    "\n",
    "f, (ax1, ax2) = plt.subplots(1, 2, figsize=(20, 4))\n",
    "t = f.suptitle('Pre-trained ResNet50 Transfer Learn with Fine-Tuning Performance ', fontsize=12)\n",
    "f.subplots_adjust(top=0.85, wspace=0.3)\n",
    "\n",
    "epoch_list = list(range(1,EPOCHS+1))\n",
    "ax1.plot(epoch_list, history1.history['accuracy'], label='Train Accuracy')\n",
    "ax1.plot(epoch_list, history1.history['val_accuracy'], label='Validation Accuracy')\n",
    "ax1.set_xticks(np.arange(0, EPOCHS+1, 1))\n",
    "ax1.set_ylabel('Accuracy Value')\n",
    "ax1.set_xlabel('Epoch #')\n",
    "ax1.set_title('Accuracy')\n",
    "l1 = ax1.legend(loc=\"best\")\n",
    "\n",
    "ax2.plot(epoch_list, history1.history['loss'], label='Train Loss')\n",
    "ax2.plot(epoch_list, history1.history['val_loss'], label='Validation Loss')\n",
    "ax2.set_xticks(np.arange(0, EPOCHS+1, 1))\n",
    "ax2.set_ylabel('Loss Value')\n",
    "ax2.set_xlabel('Epoch #')\n",
    "ax2.set_title('Loss')\n",
    "l2 = ax2.legend(loc=\"best\")"
   ]
  },
  {
   "cell_type": "code",
   "execution_count": 20,
   "metadata": {},
   "outputs": [],
   "source": [
    "model.save(\"resnet50_sgd_(500)_googlr_model.h5\")"
   ]
  },
  {
   "cell_type": "code",
   "execution_count": null,
   "metadata": {},
   "outputs": [],
   "source": [
    "#RESNET152V2\n",
    "\n"
   ]
  },
  {
   "cell_type": "code",
   "execution_count": 15,
   "metadata": {},
   "outputs": [
    {
     "name": "stdout",
     "output_type": "stream",
     "text": [
      "Model: \"sequential_2\"\n",
      "_________________________________________________________________\n",
      "Layer (type)                 Output Shape              Param #   \n",
      "=================================================================\n",
      "resnet152v2 (Model)          (None, 2048)              58331648  \n",
      "_________________________________________________________________\n",
      "dense_3 (Dense)              (None, 256)               524544    \n",
      "_________________________________________________________________\n",
      "dropout_2 (Dropout)          (None, 256)               0         \n",
      "_________________________________________________________________\n",
      "dense_4 (Dense)              (None, 2)                 514       \n",
      "=================================================================\n",
      "Total params: 58,856,706\n",
      "Trainable params: 58,712,962\n",
      "Non-trainable params: 143,744\n",
      "_________________________________________________________________\n"
     ]
    }
   ],
   "source": [
    "from keras.applications import ResNet152V2\n",
    "\n",
    "resnet152V2=ResNet152V2(\n",
    "    include_top=False, weights='imagenet', input_tensor=None, input_shape=None,\n",
    "    pooling='avg')\n",
    "\n",
    "model152V2 = Sequential()\n",
    "model152V2.add(resnet152V2)\n",
    "model152V2.add(Dense(256, activation='relu'))\n",
    "model152V2.add(Dropout(.5))\n",
    "model152V2.add(Dense(units=2, activation='softmax'))\n",
    "model152V2.summary()\n",
    "\n",
    "\n",
    "model152V2.compile(optimizer = sgd,\n",
    "              loss = OBJECTIVE_FUNCTION, metrics = LOSS_METRICS)"
   ]
  },
  {
   "cell_type": "code",
   "execution_count": 16,
   "metadata": {},
   "outputs": [
    {
     "name": "stdout",
     "output_type": "stream",
     "text": [
      "Train on 600 samples, validate on 150 samples\n",
      "Epoch 1/10\n",
      "600/600 [==============================] - 484s 807ms/step - loss: 0.0662 - accuracy: 0.9683 - val_loss: 0.0000e+00 - val_accuracy: 1.0000\n",
      "Epoch 2/10\n",
      "600/600 [==============================] - 325s 542ms/step - loss: 3.7756e-05 - accuracy: 1.0000 - val_loss: 0.0000e+00 - val_accuracy: 1.0000\n",
      "Epoch 3/10\n",
      "600/600 [==============================] - 326s 543ms/step - loss: 2.1612e-06 - accuracy: 1.0000 - val_loss: 0.0000e+00 - val_accuracy: 1.0000\n",
      "Epoch 4/10\n",
      "600/600 [==============================] - 328s 546ms/step - loss: 2.9612e-06 - accuracy: 1.0000 - val_loss: 0.0000e+00 - val_accuracy: 1.0000\n",
      "Epoch 5/10\n",
      "600/600 [==============================] - 336s 560ms/step - loss: 8.4735e-07 - accuracy: 1.0000 - val_loss: 0.0000e+00 - val_accuracy: 1.0000\n",
      "Epoch 6/10\n",
      "600/600 [==============================] - 366s 610ms/step - loss: 6.7869e-07 - accuracy: 1.0000 - val_loss: 0.0000e+00 - val_accuracy: 1.0000\n",
      "Epoch 7/10\n",
      "600/600 [==============================] - 340s 566ms/step - loss: 5.3202e-06 - accuracy: 1.0000 - val_loss: 0.0000e+00 - val_accuracy: 1.0000\n",
      "Epoch 8/10\n",
      "600/600 [==============================] - 339s 564ms/step - loss: 2.6882e-07 - accuracy: 1.0000 - val_loss: 0.0000e+00 - val_accuracy: 1.0000\n",
      "Epoch 9/10\n",
      "600/600 [==============================] - 331s 552ms/step - loss: 2.8709e-07 - accuracy: 1.0000 - val_loss: 0.0000e+00 - val_accuracy: 1.0000\n",
      "Epoch 10/10\n",
      "600/600 [==============================] - 328s 547ms/step - loss: 1.1032e-06 - accuracy: 1.0000 - val_loss: 0.0000e+00 - val_accuracy: 1.0000\n"
     ]
    }
   ],
   "source": [
    "history2=model152V2.fit(X_train, Y_train, \n",
    "                    batch_size = 50, \n",
    "                    epochs = 10, \n",
    "                    validation_data = (X_val, Y_val), \n",
    "                    verbose = 1)"
   ]
  },
  {
   "cell_type": "code",
   "execution_count": 17,
   "metadata": {},
   "outputs": [],
   "source": [
    "model152V2.save(\"resnet152V2_sgd(150)_model.h5\")"
   ]
  },
  {
   "cell_type": "code",
   "execution_count": 18,
   "metadata": {},
   "outputs": [
    {
     "data": {
      "image/png": "[encoded data removed]",
      "text/plain": [
       "<Figure size 1440x288 with 2 Axes>"
      ]
     },
     "metadata": {
      "needs_background": "light"
     },
     "output_type": "display_data"
    }
   ],
   "source": [
    "EPOCHS=10\n",
    "\n",
    "\n",
    "\n",
    "f, (ax1, ax2) = plt.subplots(1, 2, figsize=(20, 4))\n",
    "t = f.suptitle('Pre-trained ResNet152V2 Transfer Learn with Fine-Tuning & Image Augmentation Performance ', fontsize=12)\n",
    "f.subplots_adjust(top=0.85, wspace=0.3)\n",
    "\n",
    "epoch_list = list(range(1,EPOCHS+1))\n",
    "ax1.plot(epoch_list, history2.history['accuracy'], label='Train Accuracy')\n",
    "ax1.plot(epoch_list, history2.history['val_accuracy'], label='Validation Accuracy')\n",
    "ax1.set_xticks(np.arange(0, EPOCHS+1, 1))\n",
    "ax1.set_ylabel('Accuracy Value')\n",
    "ax1.set_xlabel('Epoch #')\n",
    "ax1.set_title('Accuracy')\n",
    "l1 = ax1.legend(loc=\"best\")\n",
    "\n",
    "ax2.plot(epoch_list, history2.history['loss'], label='Train Loss')\n",
    "ax2.plot(epoch_list, history2.history['val_loss'], label='Validation Loss')\n",
    "ax2.set_xticks(np.arange(0, EPOCHS+1, 1))\n",
    "ax2.set_ylabel('Loss Value')\n",
    "ax2.set_xlabel('Epoch #')\n",
    "ax2.set_title('Loss')\n",
    "l2 = ax2.legend(loc=\"best\")"
   ]
  },
  {
   "cell_type": "code",
   "execution_count": null,
   "metadata": {},
   "outputs": [],
   "source": [
    "#inceptionresnetv3\n"
   ]
  },
  {
   "cell_type": "code",
   "execution_count": 9,
   "metadata": {},
   "outputs": [
    {
     "name": "stdout",
     "output_type": "stream",
     "text": [
      "Model: \"sequential_1\"\n",
      "_________________________________________________________________\n",
      "Layer (type)                 Output Shape              Param #   \n",
      "=================================================================\n",
      "inception_resnet_v2 (Model)  (None, 1536)              54336736  \n",
      "_________________________________________________________________\n",
      "dense_1 (Dense)              (None, 256)               393472    \n",
      "_________________________________________________________________\n",
      "dropout_1 (Dropout)          (None, 256)               0         \n",
      "_________________________________________________________________\n",
      "dense_2 (Dense)              (None, 2)                 514       \n",
      "=================================================================\n",
      "Total params: 54,730,722\n",
      "Trainable params: 54,670,178\n",
      "Non-trainable params: 60,544\n",
      "_________________________________________________________________\n"
     ]
    }
   ],
   "source": [
    "from keras.applications import InceptionResNetV2\n",
    "\n",
    "inceptionResNet=InceptionResNetV2(\n",
    "    include_top=False, weights='imagenet', pooling='avg')\n",
    "\n",
    "model3 = Sequential()\n",
    "model3.add(inceptionResNet)\n",
    "model3.add(Dense(256, activation='relu'))\n",
    "model3.add(Dropout(.5))\n",
    "model3.add(Dense(units=2, activation='softmax'))\n",
    "model3.summary()\n",
    "\n",
    "\n",
    "model3.compile(optimizer = sgd,\n",
    "              loss = OBJECTIVE_FUNCTION, metrics = LOSS_METRICS)"
   ]
  },
  {
   "cell_type": "code",
   "execution_count": 10,
   "metadata": {},
   "outputs": [
    {
     "name": "stdout",
     "output_type": "stream",
     "text": [
      "Train on 1600 samples, validate on 400 samples\n",
      "Epoch 1/10\n",
      "1600/1600 [==============================] - 558s 349ms/step - loss: 0.0548 - accuracy: 0.9631 - val_loss: 0.0000e+00 - val_accuracy: 1.0000\n",
      "Epoch 2/10\n",
      "1600/1600 [==============================] - 475s 297ms/step - loss: 2.2352e-09 - accuracy: 1.0000 - val_loss: 0.0000e+00 - val_accuracy: 1.0000\n",
      "Epoch 3/10\n",
      "1600/1600 [==============================] - 483s 302ms/step - loss: 1.7136e-08 - accuracy: 1.0000 - val_loss: 0.0000e+00 - val_accuracy: 1.0000\n",
      "Epoch 4/10\n",
      "1600/1600 [==============================] - 484s 303ms/step - loss: 1.7658e-08 - accuracy: 1.0000 - val_loss: 0.0000e+00 - val_accuracy: 1.0000\n",
      "Epoch 5/10\n",
      "1600/1600 [==============================] - 471s 294ms/step - loss: 2.3097e-09 - accuracy: 1.0000 - val_loss: 0.0000e+00 - val_accuracy: 1.0000\n",
      "Epoch 6/10\n",
      "1600/1600 [==============================] - 473s 295ms/step - loss: 5.9605e-10 - accuracy: 1.0000 - val_loss: 0.0000e+00 - val_accuracy: 1.0000\n",
      "Epoch 7/10\n",
      "1600/1600 [==============================] - 479s 299ms/step - loss: 1.4901e-10 - accuracy: 1.0000 - val_loss: 0.0000e+00 - val_accuracy: 1.0000\n",
      "Epoch 8/10\n",
      "1600/1600 [==============================] - 481s 301ms/step - loss: 2.2352e-10 - accuracy: 1.0000 - val_loss: 0.0000e+00 - val_accuracy: 1.0000\n",
      "Epoch 9/10\n",
      "1600/1600 [==============================] - 478s 299ms/step - loss: 2.6822e-09 - accuracy: 1.0000 - val_loss: 2.9802e-10 - val_accuracy: 1.0000\n",
      "Epoch 10/10\n",
      "1600/1600 [==============================] - 480s 300ms/step - loss: 6.7055e-10 - accuracy: 1.0000 - val_loss: 5.9605e-10 - val_accuracy: 1.0000\n"
     ]
    }
   ],
   "source": [
    "history3=model3.fit(X_train, Y_train, \n",
    "                    batch_size = 100, \n",
    "                    epochs = 10, \n",
    "                    validation_data = (X_val, Y_val), \n",
    "                    verbose = 1)"
   ]
  },
  {
   "cell_type": "code",
   "execution_count": 11,
   "metadata": {},
   "outputs": [],
   "source": [
    "model3.save(\"InceptionResnetv2_sgd(400)_model.h5\")"
   ]
  },
  {
   "cell_type": "code",
   "execution_count": 12,
   "metadata": {},
   "outputs": [
    {
     "data": {
      "image/png": "[encoded data removed]",
      "text/plain": [
       "<Figure size 1440x288 with 2 Axes>"
      ]
     },
     "metadata": {
      "needs_background": "light"
     },
     "output_type": "display_data"
    }
   ],
   "source": [
    "EPOCHS=10\n",
    "\n",
    "\n",
    "\n",
    "f, (ax1, ax2) = plt.subplots(1, 2, figsize=(20, 4))\n",
    "t = f.suptitle('Pre-trained InceptionResnetV2 Transfer Learn with Fine-Tuning & Image Augmentation Performance ', fontsize=12)\n",
    "f.subplots_adjust(top=0.85, wspace=0.3)\n",
    "\n",
    "epoch_list = list(range(1,EPOCHS+1))\n",
    "ax1.plot(epoch_list, history3.history['accuracy'], label='Train Accuracy')\n",
    "ax1.plot(epoch_list, history3.history['val_accuracy'], label='Validation Accuracy')\n",
    "ax1.set_xticks(np.arange(0, EPOCHS+1, 1))\n",
    "ax1.set_ylabel('Accuracy Value')\n",
    "ax1.set_xlabel('Epoch #')\n",
    "ax1.set_title('Accuracy')\n",
    "l1 = ax1.legend(loc=\"best\")\n",
    "\n",
    "ax2.plot(epoch_list, history3.history['loss'], label='Train Loss')\n",
    "ax2.plot(epoch_list, history3.history['val_loss'], label='Validation Loss')\n",
    "ax2.set_xticks(np.arange(0, EPOCHS+1, 1))\n",
    "ax2.set_ylabel('Loss Value')\n",
    "ax2.set_xlabel('Epoch #')\n",
    "ax2.set_title('Loss')\n",
    "l2 = ax2.legend(loc=\"best\")"
   ]
  }
 ],
 "metadata": {
  "celltoolbar": "Tags",
  "kernelspec": {
   "display_name": "Python 3",
   "language": "python",
   "name": "python3"
  },
  "language_info": {
   "codemirror_mode": {
    "name": "ipython",
    "version": 3
   },
   "file_extension": ".py",
   "mimetype": "text/x-python",
   "name": "python",
   "nbconvert_exporter": "python",
   "pygments_lexer": "ipython3",
   "version": "3.7.6"
  }
 },
 "nbformat": 4,
 "nbformat_minor": 4
}
