{
 "cells": [
  {
   "cell_type": "code",
   "execution_count": 1,
   "metadata": {},
   "outputs": [
    {
     "name": "stderr",
     "output_type": "stream",
     "text": [
      "Using TensorFlow backend.\n"
     ]
    }
   ],
   "source": [
    "import numpy as np\n",
    "import pandas as pd\n",
    "import os\n",
    "import matplotlib\n",
    "import matplotlib.pyplot as plt\n",
    "%matplotlib inline\n",
    "from random import randrange\n",
    "import cv2 as cv\n",
    "# import glob\n",
    "import pickle\n",
    "\n",
    "from tensorflow import keras\n",
    "from keras.layers import *\n",
    "from keras.models import Sequential\n",
    "from keras import optimizers\n",
    "from tensorflow.keras.callbacks import EarlyStopping\n"
   ]
  },
  {
   "cell_type": "code",
   "execution_count": 2,
   "metadata": {},
   "outputs": [],
   "source": [
    "DATA_FOLDER='/home/fra/Scrivania/Deepfake-Detection/dataset/kaggle'\n",
    "\n",
    "DATA_RAW= 'raw_data'\n",
    "TEST_FOLDER='test_video'\n",
    "#input folder kaggle\n",
    "ORIGINAL_FOLDER='original'\n",
    "MANIPULATED_FOLDER='fake'\n",
    "\n",
    "#output folder preprocess google\n",
    "IMG_ORIGINAL_FOLDER  ='/home/fra/Scrivania/Deepfake-Detection/dataset/kaggle/preprocess-output/real_png'\n",
    "IMG_MANIPULATED_FOLDER='/home/fra/Scrivania/Deepfake-Detection/dataset/kaggle/preprocess-output/fake_png'\n",
    "IMG_TEST_FOLDER='/home/fra/Scrivania/Deepfake-Detection/dataset/kaggle/preprocess-output/test_png'\n",
    "\n",
    "root_folder_test=os.path.join(DATA_FOLDER, TEST_FOLDER)\n"
   ]
  },
  {
   "cell_type": "code",
   "execution_count": 3,
   "metadata": {},
   "outputs": [],
   "source": [
    "IMAGE_RESIZE = 180\n",
    "RESNET50_POOLING_AVERAGE = 'avg'\n",
    "DENSE_LAYER_ACTIVATION = 'softmax'\n",
    "OBJECTIVE_FUNCTION = 'categorical_crossentropy'\n",
    "\n",
    "LOSS_METRICS = ['accuracy']\n"
   ]
  },
  {
   "cell_type": "code",
   "execution_count": 11,
   "metadata": {},
   "outputs": [
    {
     "name": "stdout",
     "output_type": "stream",
     "text": [
      "1500\n",
      "DATA Saved\n"
     ]
    }
   ],
   "source": [
    "from keras.preprocessing.image import img_to_array, load_img\n",
    "\n",
    "FRAME_X_VIDEO=5\n",
    "\n",
    "MAX_VIDEO_REAL=150\n",
    "MAX_VIDEO_FAKE=150\n",
    "\n",
    "\n",
    "X_train = []\n",
    "Y_train = []\n",
    "\n",
    "train_original    = os.listdir(IMG_ORIGINAL_FOLDER)\n",
    "train_manipulated = os.listdir(IMG_MANIPULATED_FOLDER)\n",
    "\n",
    "\n",
    "\n",
    "count_fake=0        \n",
    "count_real=0\n",
    "\n",
    "    \n",
    "while count_real<MAX_VIDEO_REAL:\n",
    "\n",
    "    next_video_index = randrange(0,len(train_original))\n",
    "    #randomly we choose a video_dir from the train folder\n",
    "    video_dir=train_original[next_video_index]\n",
    "    #randomly from that video_folder we choose some frame for the training\n",
    "    frames_taken=0\n",
    "    candidate_frame= list(os.listdir(os.path.join(IMG_ORIGINAL_FOLDER, video_dir)))\n",
    "\n",
    "    if len(candidate_frame)>20:\n",
    "        count_real+=1        \n",
    "\n",
    "        while frames_taken<FRAME_X_VIDEO:\n",
    "            random_index=randrange(0,len(candidate_frame))  \n",
    "            X_train.append(img_to_array(\n",
    "                load_img(\n",
    "                os.path.join(IMG_ORIGINAL_FOLDER, video_dir,candidate_frame[random_index]),\n",
    "                target_size=(128, 128) )\n",
    "                    )            )\n",
    "            Y_train.append(0)\n",
    "\n",
    "            frames_taken+=1\n",
    "            #remove the selected frame\n",
    "            del candidate_frame[random_index]\n",
    "        #remove the selected video from the frontier\n",
    "        del train_original[next_video_index]\n",
    "\n",
    "\n",
    "while count_fake<MAX_VIDEO_FAKE: \n",
    "\n",
    "    next_video_index = randrange(0,len(train_manipulated))\n",
    "    #randomly we choose a video_dir from the train folder\n",
    "    video_dir=train_manipulated[next_video_index]\n",
    "    #randomly from that video_folder we choose some frame for the training\n",
    "    frames_taken=0\n",
    "    candidate_frame= list(os.listdir(os.path.join(IMG_MANIPULATED_FOLDER, video_dir)))\n",
    "\n",
    "    if len(candidate_frame)>20:\n",
    "        count_fake+=1        \n",
    "\n",
    "        while frames_taken<FRAME_X_VIDEO:\n",
    "            random_index=randrange(0,len(candidate_frame))  \n",
    "            X_train.append(img_to_array(\n",
    "                load_img(\n",
    "                os.path.join(IMG_MANIPULATED_FOLDER, video_dir,candidate_frame[random_index]),\n",
    "                target_size=(128, 128) )\n",
    "                    )            )\n",
    "            Y_train.append(1)\n",
    "\n",
    "            frames_taken+=1\n",
    "            #remove the selected frame\n",
    "            del candidate_frame[random_index]\n",
    "        #remove the selected video from the frontier\n",
    "        del train_manipulated[next_video_index]    \n",
    "\n",
    "        \n",
    "print(len(X_train))\n",
    "data= {}\n",
    "data[\"X_train\"] = X_train\n",
    "data[\"Y_train\"] = Y_train\n",
    "\n",
    "\n",
    "output = open('train_300_kaggle.pkl', 'wb')\n",
    "pickle.dump(data, output)\n",
    "output.close()\n",
    "print(\"DATA Saved\")   "
   ]
  },
  {
   "cell_type": "code",
   "execution_count": 6,
   "metadata": {},
   "outputs": [
    {
     "name": "stdout",
     "output_type": "stream",
     "text": [
      "JSON TEST file: metadata.json\n"
     ]
    },
    {
     "data": {
      "text/html": [
       "<div>\n",
       "<style scoped>\n",
       "    .dataframe tbody tr th:only-of-type {\n",
       "        vertical-align: middle;\n",
       "    }\n",
       "\n",
       "    .dataframe tbody tr th {\n",
       "        vertical-align: top;\n",
       "    }\n",
       "\n",
       "    .dataframe thead th {\n",
       "        text-align: right;\n",
       "    }\n",
       "</style>\n",
       "<table border=\"1\" class=\"dataframe\">\n",
       "  <thead>\n",
       "    <tr style=\"text-align: right;\">\n",
       "      <th></th>\n",
       "      <th>label</th>\n",
       "      <th>split</th>\n",
       "      <th>original</th>\n",
       "    </tr>\n",
       "  </thead>\n",
       "  <tbody>\n",
       "    <tr>\n",
       "      <th>qzhrdqxpax.mp4</th>\n",
       "      <td>FAKE</td>\n",
       "      <td>train</td>\n",
       "      <td>rlhmppiklf.mp4</td>\n",
       "    </tr>\n",
       "    <tr>\n",
       "      <th>mthkmtbuab.mp4</th>\n",
       "      <td>REAL</td>\n",
       "      <td>train</td>\n",
       "      <td>NaN</td>\n",
       "    </tr>\n",
       "    <tr>\n",
       "      <th>jgmtynuyqc.mp4</th>\n",
       "      <td>FAKE</td>\n",
       "      <td>train</td>\n",
       "      <td>xkrhzvriqg.mp4</td>\n",
       "    </tr>\n",
       "    <tr>\n",
       "      <th>fbosopvlqz.mp4</th>\n",
       "      <td>FAKE</td>\n",
       "      <td>train</td>\n",
       "      <td>ivssyazqtr.mp4</td>\n",
       "    </tr>\n",
       "    <tr>\n",
       "      <th>trzdsncewk.mp4</th>\n",
       "      <td>FAKE</td>\n",
       "      <td>train</td>\n",
       "      <td>fsxwyhjxgo.mp4</td>\n",
       "    </tr>\n",
       "  </tbody>\n",
       "</table>\n",
       "</div>"
      ],
      "text/plain": [
       "               label  split        original\n",
       "qzhrdqxpax.mp4  FAKE  train  rlhmppiklf.mp4\n",
       "mthkmtbuab.mp4  REAL  train             NaN\n",
       "jgmtynuyqc.mp4  FAKE  train  xkrhzvriqg.mp4\n",
       "fbosopvlqz.mp4  FAKE  train  ivssyazqtr.mp4\n",
       "trzdsncewk.mp4  FAKE  train  fsxwyhjxgo.mp4"
      ]
     },
     "execution_count": 6,
     "metadata": {},
     "output_type": "execute_result"
    }
   ],
   "source": [
    "test_list=os.listdir(root_folder_test)\n",
    "\n",
    "\n",
    "json_test_file=[file for file in test_list if  file.endswith('json')][0]\n",
    "print(f\"JSON TEST file: {json_test_file}\")\n",
    "\n",
    "def get_meta_from_json(path):\n",
    "    df = pd.read_json(os.path.join(DATA_FOLDER, path, json_test_file))\n",
    "    df = df.T\n",
    "    return df\n",
    "meta_test_df = get_meta_from_json(TEST_FOLDER)\n",
    "meta_test_df.head()"
   ]
  },
  {
   "cell_type": "code",
   "execution_count": 13,
   "metadata": {},
   "outputs": [
    {
     "name": "stdout",
     "output_type": "stream",
     "text": [
      "500\n",
      "DATA Saved\n"
     ]
    }
   ],
   "source": [
    "VIDEO_TEST= 100\n",
    "\n",
    "test_videos= os.listdir(IMG_TEST_FOLDER)\n",
    "\n",
    "X_val=[]\n",
    "Y_val=[]\n",
    "\n",
    "count_test=0\n",
    "\n",
    "while count_test<VIDEO_TEST:\n",
    "    next_video_index = randrange(0,len(test_videos))\n",
    "    #randomly we choose a video_dir from the train folder\n",
    "    video_dir=test_videos[next_video_index]\n",
    "    #randomly from that video_folder we choose some frame for the training\n",
    "    frames_taken=0\n",
    "    candidate_frame= list(os.listdir(os.path.join(IMG_TEST_FOLDER, video_dir)))\n",
    "    if len(candidate_frame)>20:\n",
    "        count_test+=1        \n",
    "        while frames_taken<FRAME_X_VIDEO:\n",
    "            random_index=randrange(0,len(candidate_frame))  \n",
    "            X_val.append(img_to_array(\n",
    "                load_img(\n",
    "                os.path.join(IMG_TEST_FOLDER, video_dir,candidate_frame[random_index]),\n",
    "                target_size=(128, 128) )\n",
    "                    )            )\n",
    "            \n",
    "            if meta_test_df.loc[video_dir].label=='REAL':\n",
    "                Y_val.append(0)\n",
    "            else:\n",
    "                Y_val.append(1)\n",
    "\n",
    "            \n",
    "            frames_taken+=1\n",
    "            #remove the selected frame\n",
    "            del candidate_frame[random_index]\n",
    "        #remove the selected video from the frontier\n",
    "        del test_videos[next_video_index]\n",
    "\n",
    "\n",
    "        \n",
    "print(len(X_val))\n",
    "\n",
    "data_val= {}\n",
    "\n",
    "data_val[\"X_val\"] = X_val\n",
    "data_val[\"Y_val\"] = Y_val\n",
    "\n",
    "\n",
    "output = open('validation_100_kaggle.pkl', 'wb')\n",
    "pickle.dump(data_val, output)\n",
    "output.close()\n",
    "print(\"DATA Saved\")   "
   ]
  },
  {
   "cell_type": "code",
   "execution_count": null,
   "metadata": {},
   "outputs": [],
   "source": [
    "#Using the model"
   ]
  },
  {
   "cell_type": "code",
   "execution_count": 4,
   "metadata": {},
   "outputs": [],
   "source": [
    "# load data file\n",
    "pkl_file1 = open('train_300_kaggle.pkl', 'rb')\n",
    "train = pickle.load(pkl_file1)\n",
    "pkl_file1.close()\n",
    "X_train = train[\"X_train\"]\n",
    "Y_train = train[\"Y_train\"]\n",
    "\n",
    "pkl_file2 = open('validation_100_kaggle.pkl', 'rb')\n",
    "val = pickle.load(pkl_file2)\n",
    "pkl_file2.close()\n",
    "X_val = val[\"X_val\"]\n",
    "Y_val = val[\"Y_val\"]\n",
    "\n"
   ]
  },
  {
   "cell_type": "code",
   "execution_count": 5,
   "metadata": {},
   "outputs": [],
   "source": [
    "from keras.utils import to_categorical\n",
    "from sklearn.model_selection import train_test_split\n",
    "\n",
    "#Normalization\n",
    "\n",
    "X_train= np.array(X_train)\n",
    "Y_train= to_categorical(Y_train, 2)\n",
    "\n",
    "X_val=np.array(X_val)\n",
    "Y_val= to_categorical(Y_val, 2)\n",
    "\n",
    "# #Reshape\n",
    "X_train = X_train.reshape(-1, 128, 128, 3)\n",
    "X_val = X_val.reshape(-1, 128, 128, 3)\n",
    "\n",
    "\n",
    "# #Train-Test split\n",
    "# X_train1, X_val1, Y_train1, Y_val1 = train_test_split(X_train, Y_train, test_size = 0.2, random_state=5)"
   ]
  },
  {
   "cell_type": "code",
   "execution_count": 6,
   "metadata": {},
   "outputs": [
    {
     "name": "stdout",
     "output_type": "stream",
     "text": [
      "(1500, 128, 128, 3) (1500, 2) (500, 128, 128, 3)\n"
     ]
    }
   ],
   "source": [
    "print(X_train.shape,Y_train.shape,X_val.shape)"
   ]
  },
  {
   "cell_type": "code",
   "execution_count": 10,
   "metadata": {},
   "outputs": [],
   "source": [
    "#define a new activation\n",
    "\n",
    "from keras.backend import sigmoid\n",
    "\n",
    "def swish(x, beta = 1):\n",
    "    return (x * sigmoid(beta * x))\n",
    "\n",
    "from keras.utils.generic_utils import get_custom_objects\n",
    "from keras.layers import Activation\n",
    "get_custom_objects().update({'swish': Activation(swish)})\n"
   ]
  },
  {
   "cell_type": "code",
   "execution_count": 12,
   "metadata": {},
   "outputs": [
    {
     "name": "stdout",
     "output_type": "stream",
     "text": [
      "Model: \"sequential_1\"\n",
      "_________________________________________________________________\n",
      "Layer (type)                 Output Shape              Param #   \n",
      "=================================================================\n",
      "resnet50 (Model)             (None, 2048)              23587712  \n",
      "_________________________________________________________________\n",
      "dense_1 (Dense)              (None, 256)               524544    \n",
      "_________________________________________________________________\n",
      "dropout_1 (Dropout)          (None, 256)               0         \n",
      "_________________________________________________________________\n",
      "dense_2 (Dense)              (None, 2)                 514       \n",
      "=================================================================\n",
      "Total params: 24,112,770\n",
      "Trainable params: 24,059,650\n",
      "Non-trainable params: 53,120\n",
      "_________________________________________________________________\n"
     ]
    }
   ],
   "source": [
    "from keras.applications.resnet50 import ResNet50\n",
    "\n",
    "resnet = ResNet50(include_top = False, pooling = 'avg', weights='imagenet')\n",
    "resnet.trainable=True\n",
    "\n",
    "model = Sequential()\n",
    "model.add(resnet)\n",
    "model.add(Dense(256, activation='relu'))\n",
    "model.add(Dropout(.5))\n",
    "model.add(Dense(units=2, activation='softmax'))\n",
    "model.summary()"
   ]
  },
  {
   "cell_type": "code",
   "execution_count": 19,
   "metadata": {},
   "outputs": [],
   "source": [
    "#optimizer\n",
    "ada_delta = optimizers.Adadelta(lr=0.001, rho=0.95, epsilon=1e-07 )\n",
    "\n",
    "adam=optimizers.Adam(lr=1e-5, decay=1e-6)\n",
    "\n",
    "epochs=10\n",
    "learning_rate = 0.1\n",
    "decay_rate = learning_rate / epochs\n",
    "momentum = 0.8\n",
    "sgd = optimizers.SGD(lr=learning_rate, momentum=momentum, decay=decay_rate, nesterov=False)\n",
    "\n",
    "\n",
    "\n",
    "model.compile(optimizer = adam,\n",
    "              loss = 'categorical_crossentropy', metrics = LOSS_METRICS)\n",
    "\n",
    "\n",
    "early_stopping = EarlyStopping(monitor='val_loss', patience=2, verbose=0)"
   ]
  },
  {
   "cell_type": "code",
   "execution_count": 20,
   "metadata": {},
   "outputs": [
    {
     "name": "stdout",
     "output_type": "stream",
     "text": [
      "Train on 2000 samples, validate on 500 samples\n",
      "Epoch 1/10\n",
      "2000/2000 [==============================] - 668s 334ms/step - loss: 0.4575 - accuracy: 0.7780 - val_loss: 0.7112 - val_accuracy: 0.6700\n",
      "Epoch 2/10\n",
      "2000/2000 [==============================] - 560s 280ms/step - loss: 0.4183 - accuracy: 0.8045 - val_loss: 0.6927 - val_accuracy: 0.6780\n",
      "Epoch 3/10\n",
      "2000/2000 [==============================] - 622s 311ms/step - loss: 0.4038 - accuracy: 0.8065 - val_loss: 0.6875 - val_accuracy: 0.6800\n",
      "Epoch 4/10\n",
      "2000/2000 [==============================] - 621s 311ms/step - loss: 0.3868 - accuracy: 0.8130 - val_loss: 0.6906 - val_accuracy: 0.6820\n",
      "Epoch 5/10\n",
      "2000/2000 [==============================] - 623s 312ms/step - loss: 0.3687 - accuracy: 0.8225 - val_loss: 0.6629 - val_accuracy: 0.6920\n",
      "Epoch 6/10\n",
      "2000/2000 [==============================] - 612s 306ms/step - loss: 0.3616 - accuracy: 0.8290 - val_loss: 0.6644 - val_accuracy: 0.6900\n",
      "Epoch 7/10\n",
      "2000/2000 [==============================] - 608s 304ms/step - loss: 0.3457 - accuracy: 0.8355 - val_loss: 0.6811 - val_accuracy: 0.6940\n",
      "Epoch 8/10\n",
      "2000/2000 [==============================] - 603s 302ms/step - loss: 0.3254 - accuracy: 0.8385 - val_loss: 0.7007 - val_accuracy: 0.6760\n",
      "Epoch 9/10\n",
      "2000/2000 [==============================] - 609s 305ms/step - loss: 0.3169 - accuracy: 0.8500 - val_loss: 0.7131 - val_accuracy: 0.6940\n",
      "Epoch 10/10\n",
      "2000/2000 [==============================] - 609s 304ms/step - loss: 0.3098 - accuracy: 0.8550 - val_loss: 0.7357 - val_accuracy: 0.6860\n"
     ]
    }
   ],
   "source": [
    "history1=model.fit(X_train, Y_train, \n",
    "                    batch_size = 100, \n",
    "                    epochs = 10, \n",
    "                    validation_data = (X_val, Y_val), \n",
    "                    verbose = 1\n",
    "#          callbacks=[early_stopping]\n",
    "         )"
   ]
  },
  {
   "cell_type": "code",
   "execution_count": 21,
   "metadata": {},
   "outputs": [
    {
     "data": {
      "image/png": "[encoded data removed]",
      "text/plain": [
       "<Figure size 1440x288 with 2 Axes>"
      ]
     },
     "metadata": {
      "needs_background": "light"
     },
     "output_type": "display_data"
    }
   ],
   "source": [
    "EPOCHS=10\n",
    "\n",
    "\n",
    "\n",
    "f, (ax1, ax2) = plt.subplots(1, 2, figsize=(20, 4))\n",
    "t = f.suptitle('Pre-trained ResNet50 Transfer Learn with Fine-Tuning Performance ', fontsize=12)\n",
    "f.subplots_adjust(top=0.85, wspace=0.3)\n",
    "\n",
    "epoch_list = list(range(1,EPOCHS+1))\n",
    "ax1.plot(epoch_list, history1.history['accuracy'], label='Train Accuracy')\n",
    "ax1.plot(epoch_list, history1.history['val_accuracy'], label='Validation Accuracy')\n",
    "ax1.set_xticks(np.arange(0, EPOCHS+1, 1))\n",
    "ax1.set_ylabel('Accuracy Value')\n",
    "ax1.set_xlabel('Epoch #')\n",
    "ax1.set_title('Accuracy')\n",
    "l1 = ax1.legend(loc=\"best\")\n",
    "\n",
    "ax2.plot(epoch_list, history1.history['loss'], label='Train Loss')\n",
    "ax2.plot(epoch_list, history1.history['val_loss'], label='Validation Loss')\n",
    "ax2.set_xticks(np.arange(0, EPOCHS+1, 1))\n",
    "ax2.set_ylabel('Loss Value')\n",
    "ax2.set_xlabel('Epoch #')\n",
    "ax2.set_title('Loss')\n",
    "l2 = ax2.legend(loc=\"best\")"
   ]
  },
  {
   "cell_type": "code",
   "execution_count": 18,
   "metadata": {},
   "outputs": [],
   "source": [
    "model.save(\"resnet50_sgd(500)_model.h5\")"
   ]
  },
  {
   "cell_type": "code",
   "execution_count": 25,
   "metadata": {},
   "outputs": [
    {
     "name": "stdout",
     "output_type": "stream",
     "text": [
      "Model: \"sequential_2\"\n",
      "_________________________________________________________________\n",
      "Layer (type)                 Output Shape              Param #   \n",
      "=================================================================\n",
      "resnet152v2 (Model)          (None, 2048)              58331648  \n",
      "_________________________________________________________________\n",
      "dense_3 (Dense)              (None, 256)               524544    \n",
      "_________________________________________________________________\n",
      "dropout_2 (Dropout)          (None, 256)               0         \n",
      "_________________________________________________________________\n",
      "dense_4 (Dense)              (None, 2)                 514       \n",
      "=================================================================\n",
      "Total params: 58,856,706\n",
      "Trainable params: 58,712,962\n",
      "Non-trainable params: 143,744\n",
      "_________________________________________________________________\n"
     ]
    }
   ],
   "source": [
    "from keras.applications import ResNet152V2\n",
    "\n",
    "resnet152V2=ResNet152V2(\n",
    "    include_top=False, weights='imagenet', input_tensor=None, input_shape=None,\n",
    "    pooling='avg')\n",
    "\n",
    "model152V2 = Sequential()\n",
    "model152V2.add(resnet152V2)\n",
    "model152V2.add(Dense(256, activation='relu'))\n",
    "model152V2.add(Dropout(.5))\n",
    "model152V2.add(Dense(units=2, activation='softmax'))\n",
    "model152V2.summary()\n",
    "\n"
   ]
  },
  {
   "cell_type": "code",
   "execution_count": 26,
   "metadata": {},
   "outputs": [],
   "source": [
    "ada_delta = optimizers.Adadelta(lr=1e-7, rho=0.95, epsilon=1e-07 )\n",
    "\n",
    "adam=optimizers.Adam(lr=1e-5, decay=1e-6)\n",
    "\n",
    "epochs=10\n",
    "learning_rate = 0.1\n",
    "decay_rate = learning_rate / epochs\n",
    "momentum = 0.8\n",
    "sgd = optimizers.SGD(lr=learning_rate, momentum=momentum, decay=decay_rate, nesterov=False)\n",
    "\n",
    "model152V2.compile(optimizer = sgd,\n",
    "              loss = OBJECTIVE_FUNCTION, metrics = LOSS_METRICS)\n",
    "\n",
    "early_stopping = EarlyStopping(monitor='val_loss', patience=2, verbose=0)"
   ]
  },
  {
   "cell_type": "code",
   "execution_count": 27,
   "metadata": {},
   "outputs": [
    {
     "name": "stdout",
     "output_type": "stream",
     "text": [
      "Train on 750 samples, validate on 375 samples\n",
      "Epoch 1/10\n",
      "750/750 [==============================] - 561s 748ms/step - loss: 3.0398 - accuracy: 0.6373 - val_loss: nan - val_accuracy: 0.2133\n",
      "Epoch 2/10\n",
      "750/750 [==============================] - 459s 613ms/step - loss: 0.9168 - accuracy: 0.6667 - val_loss: 18134993508568049834983948288.0000 - val_accuracy: 0.2133\n",
      "Epoch 3/10\n",
      "750/750 [==============================] - 478s 637ms/step - loss: 0.7520 - accuracy: 0.6533 - val_loss: 6117008716361018.0000 - val_accuracy: 0.2133\n",
      "Epoch 4/10\n",
      "750/750 [==============================] - 511s 681ms/step - loss: 0.6454 - accuracy: 0.6653 - val_loss: 37650909511.6800 - val_accuracy: 0.2133\n",
      "Epoch 5/10\n",
      "750/750 [==============================] - 458s 611ms/step - loss: 0.6390 - accuracy: 0.6627 - val_loss: 44507874.8800 - val_accuracy: 0.2133\n",
      "Epoch 6/10\n",
      "750/750 [==============================] - 452s 603ms/step - loss: 0.6384 - accuracy: 0.6640 - val_loss: 771256.0750 - val_accuracy: 0.2133\n",
      "Epoch 7/10\n",
      "750/750 [==============================] - 452s 602ms/step - loss: 0.6345 - accuracy: 0.6667 - val_loss: 50964.3868 - val_accuracy: 0.2693\n",
      "Epoch 8/10\n",
      "750/750 [==============================] - 453s 604ms/step - loss: 0.6297 - accuracy: 0.6667 - val_loss: 6460.6691 - val_accuracy: 0.2640\n",
      "Epoch 9/10\n",
      "750/750 [==============================] - 455s 607ms/step - loss: 0.6285 - accuracy: 0.6707 - val_loss: 1398.3191 - val_accuracy: 0.3067\n",
      "Epoch 10/10\n",
      "750/750 [==============================] - 472s 629ms/step - loss: 0.6341 - accuracy: 0.6680 - val_loss: 218.9120 - val_accuracy: 0.3733\n"
     ]
    }
   ],
   "source": [
    "history2=model152V2.fit(X_train, Y_train, \n",
    "                    batch_size = 40, \n",
    "                    epochs = 10, \n",
    "                    validation_data = (X_val, Y_val), \n",
    "                    verbose = 1)"
   ]
  },
  {
   "cell_type": "code",
   "execution_count": 28,
   "metadata": {},
   "outputs": [],
   "source": [
    "model152V2.save(\"resnet152V2_sgd(150)_model.h5\")"
   ]
  },
  {
   "cell_type": "code",
   "execution_count": 29,
   "metadata": {},
   "outputs": [
    {
     "data": {
      "image/png": "[encoded data removed]",
      "text/plain": [
       "<Figure size 1440x288 with 2 Axes>"
      ]
     },
     "metadata": {
      "needs_background": "light"
     },
     "output_type": "display_data"
    }
   ],
   "source": [
    "EPOCHS=10\n",
    "\n",
    "\n",
    "\n",
    "f, (ax1, ax2) = plt.subplots(1, 2, figsize=(20, 4))\n",
    "t = f.suptitle('Pre-trained ResNet152V2 Transfer Learn with Fine-Tuning & Image Augmentation Performance ', fontsize=12)\n",
    "f.subplots_adjust(top=0.85, wspace=0.3)\n",
    "\n",
    "epoch_list = list(range(1,EPOCHS+1))\n",
    "ax1.plot(epoch_list, history2.history['accuracy'], label='Train Accuracy')\n",
    "ax1.plot(epoch_list, history2.history['val_accuracy'], label='Validation Accuracy')\n",
    "ax1.set_xticks(np.arange(0, EPOCHS+1, 1))\n",
    "ax1.set_ylabel('Accuracy Value')\n",
    "ax1.set_xlabel('Epoch #')\n",
    "ax1.set_title('Accuracy')\n",
    "l1 = ax1.legend(loc=\"best\")\n",
    "\n",
    "ax2.plot(epoch_list, history2.history['loss'], label='Train Loss')\n",
    "ax2.plot(epoch_list, history2.history['val_loss'], label='Validation Loss')\n",
    "ax2.set_xticks(np.arange(0, EPOCHS+1, 1))\n",
    "ax2.set_ylabel('Loss Value')\n",
    "ax2.set_xlabel('Epoch #')\n",
    "ax2.set_title('Loss')\n",
    "l2 = ax2.legend(loc=\"best\")"
   ]
  },
  {
   "cell_type": "code",
   "execution_count": 7,
   "metadata": {},
   "outputs": [
    {
     "name": "stdout",
     "output_type": "stream",
     "text": [
      "Model: \"sequential_1\"\n",
      "_________________________________________________________________\n",
      "Layer (type)                 Output Shape              Param #   \n",
      "=================================================================\n",
      "inception_resnet_v2 (Model)  (None, 1536)              54336736  \n",
      "_________________________________________________________________\n",
      "dense_1 (Dense)              (None, 256)               393472    \n",
      "_________________________________________________________________\n",
      "dropout_1 (Dropout)          (None, 256)               0         \n",
      "_________________________________________________________________\n",
      "dense_2 (Dense)              (None, 2)                 514       \n",
      "=================================================================\n",
      "Total params: 54,730,722\n",
      "Trainable params: 54,670,178\n",
      "Non-trainable params: 60,544\n",
      "_________________________________________________________________\n"
     ]
    }
   ],
   "source": [
    "from keras.applications import InceptionResNetV2\n",
    "\n",
    "inceptionResNet=InceptionResNetV2(\n",
    "    include_top=False, weights='imagenet', pooling='avg')\n",
    "\n",
    "model3 = Sequential()\n",
    "model3.add(inceptionResNet)\n",
    "model3.add(Dense(256, activation='relu'))\n",
    "model3.add(Dropout(.5))\n",
    "model3.add(Dense(units=2, activation='softmax'))\n",
    "model3.summary()\n",
    "\n"
   ]
  },
  {
   "cell_type": "code",
   "execution_count": 12,
   "metadata": {},
   "outputs": [],
   "source": [
    "ada_delta = optimizers.Adadelta(lr=1e-7, rho=0.95, epsilon=1e-07 )\n",
    "\n",
    "adam=optimizers.Adam(lr=1e-5, decay=1e-6)\n",
    "\n",
    "epochs=10\n",
    "learning_rate = 0.1\n",
    "decay_rate = learning_rate / epochs\n",
    "momentum = 0.8\n",
    "sgd = optimizers.SGD(lr=learning_rate, momentum=momentum, decay=decay_rate, nesterov=False)\n",
    "\n",
    "\n",
    "model3.compile(optimizer = adam,\n",
    "              loss = OBJECTIVE_FUNCTION, metrics = LOSS_METRICS)"
   ]
  },
  {
   "cell_type": "code",
   "execution_count": 13,
   "metadata": {},
   "outputs": [
    {
     "name": "stdout",
     "output_type": "stream",
     "text": [
      "Train on 1500 samples, validate on 500 samples\n",
      "Epoch 1/10\n",
      "1500/1500 [==============================] - 435s 290ms/step - loss: 0.2722 - accuracy: 0.8753 - val_loss: 1.9512 - val_accuracy: 0.2800\n",
      "Epoch 2/10\n",
      "1500/1500 [==============================] - 264s 176ms/step - loss: 0.2433 - accuracy: 0.8813 - val_loss: 2.1193 - val_accuracy: 0.2600\n",
      "Epoch 3/10\n",
      "1500/1500 [==============================] - 247s 165ms/step - loss: 0.2171 - accuracy: 0.8960 - val_loss: 2.2771 - val_accuracy: 0.2420\n",
      "Epoch 4/10\n",
      "1500/1500 [==============================] - 247s 165ms/step - loss: 0.2055 - accuracy: 0.8993 - val_loss: 2.2905 - val_accuracy: 0.2460\n",
      "Epoch 5/10\n",
      "1500/1500 [==============================] - 246s 164ms/step - loss: 0.1918 - accuracy: 0.9007 - val_loss: 2.3535 - val_accuracy: 0.2440\n",
      "Epoch 6/10\n",
      "1500/1500 [==============================] - 248s 165ms/step - loss: 0.1870 - accuracy: 0.9107 - val_loss: 2.4519 - val_accuracy: 0.2400\n",
      "Epoch 7/10\n",
      "1500/1500 [==============================] - 251s 167ms/step - loss: 0.1723 - accuracy: 0.9140 - val_loss: 2.4001 - val_accuracy: 0.2460\n",
      "Epoch 8/10\n",
      "1500/1500 [==============================] - 251s 168ms/step - loss: 0.1568 - accuracy: 0.9227 - val_loss: 2.3881 - val_accuracy: 0.2560\n",
      "Epoch 9/10\n",
      "1500/1500 [==============================] - 249s 166ms/step - loss: 0.1628 - accuracy: 0.9140 - val_loss: 2.3800 - val_accuracy: 0.2700\n",
      "Epoch 10/10\n",
      "1500/1500 [==============================] - 246s 164ms/step - loss: 0.1469 - accuracy: 0.9220 - val_loss: 2.4219 - val_accuracy: 0.2840\n"
     ]
    }
   ],
   "source": [
    "history3=model3.fit(X_train, Y_train, \n",
    "                    batch_size = 100, \n",
    "                    epochs = 10, \n",
    "                    validation_data = (X_val, Y_val), \n",
    "                    verbose = 1)"
   ]
  },
  {
   "cell_type": "code",
   "execution_count": 10,
   "metadata": {},
   "outputs": [],
   "source": [
    "model3.save(\"ada_InceptionResnetv2_sgd(400)_model.h5\")"
   ]
  },
  {
   "cell_type": "code",
   "execution_count": 14,
   "metadata": {},
   "outputs": [
    {
     "data": {
      "image/png": "[encoded data removed]",
      "text/plain": [
       "<Figure size 1440x288 with 2 Axes>"
      ]
     },
     "metadata": {
      "needs_background": "light"
     },
     "output_type": "display_data"
    }
   ],
   "source": [
    "EPOCHS=10\n",
    "\n",
    "\n",
    "\n",
    "f, (ax1, ax2) = plt.subplots(1, 2, figsize=(20, 4))\n",
    "t = f.suptitle('Pre-trained InceptionResnetV2 Transfer Learn with Fine-Tuning & Image Augmentation Performance ', fontsize=12)\n",
    "f.subplots_adjust(top=0.85, wspace=0.3)\n",
    "\n",
    "epoch_list = list(range(1,EPOCHS+1))\n",
    "ax1.plot(epoch_list, history3.history['accuracy'], label='Train Accuracy')\n",
    "ax1.plot(epoch_list, history3.history['val_accuracy'], label='Validation Accuracy')\n",
    "ax1.set_xticks(np.arange(0, EPOCHS+1, 1))\n",
    "ax1.set_ylabel('Accuracy Value')\n",
    "ax1.set_xlabel('Epoch #')\n",
    "ax1.set_title('Accuracy')\n",
    "l1 = ax1.legend(loc=\"best\")\n",
    "\n",
    "ax2.plot(epoch_list, history3.history['loss'], label='Train Loss')\n",
    "ax2.plot(epoch_list, history3.history['val_loss'], label='Validation Loss')\n",
    "ax2.set_xticks(np.arange(0, EPOCHS+1, 1))\n",
    "ax2.set_ylabel('Loss Value')\n",
    "ax2.set_xlabel('Epoch #')\n",
    "ax2.set_title('Loss')\n",
    "l2 = ax2.legend(loc=\"best\")"
   ]
  },
  {
   "cell_type": "code",
   "execution_count": null,
   "metadata": {},
   "outputs": [],
   "source": []
  },
  {
   "cell_type": "code",
   "execution_count": null,
   "metadata": {},
   "outputs": [],
   "source": []
  }
 ],
 "metadata": {
  "kernelspec": {
   "display_name": "Python 3",
   "language": "python",
   "name": "python3"
  },
  "language_info": {
   "codemirror_mode": {
    "name": "ipython",
    "version": 3
   },
   "file_extension": ".py",
   "mimetype": "text/x-python",
   "name": "python",
   "nbconvert_exporter": "python",
   "pygments_lexer": "ipython3",
   "version": "3.7.6"
  }
 },
 "nbformat": 4,
 "nbformat_minor": 4
}
