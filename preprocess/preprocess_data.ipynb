{
 "cells": [
  {
   "cell_type": "code",
   "execution_count": null,
   "metadata": {},
   "outputs": [],
   "source": [
    "import numpy as np\n",
    "import pandas as pd\n",
    "import os\n",
    "import matplotlib\n",
    "import matplotlib.pyplot as plt\n",
    "%matplotlib inline\n",
    "from random import randrange\n",
    "import cv2 as cv\n",
    "\n",
    "from tensorflow import keras\n",
    "from keras.layers import *\n",
    "from keras.models import Sequential\n",
    "from keras import optimizers\n"
   ]
  },
  {
   "cell_type": "code",
   "execution_count": null,
   "metadata": {},
   "outputs": [],
   "source": [
    "GOOGLE_DATA_FOLDER='/home/fra/Scrivania/Deepfake-Detection/dataset/GoogleAi'\n",
    "\n",
    "#input folder google\n",
    "ORIGINAL_FOLDER='original_sequences'\n",
    "MANIPULATED_FOLDER='fake_sequences'\n",
    "\n",
    "#output folder preprocess google\n",
    "IMG_ORIGINAL_FOLDER  ='/home/fra/Scrivania/Deepfake-Detection/dataset/preprocess-output/png_real'\n",
    "IMG_MANIPULATED_FOLDER='/home/fra/Scrivania/Deepfake-Detection/dataset/preprocess-output/png_fake'"
   ]
  },
  {
   "cell_type": "code",
   "execution_count": null,
   "metadata": {},
   "outputs": [],
   "source": [
    "#load googleAi video\n",
    "root_folder_video_original=os.path.join(GOOGLE_DATA_FOLDER, ORIGINAL_FOLDER)\n",
    "root_folder_video_manipulated=os.path.join(GOOGLE_DATA_FOLDER, MANIPULATED_FOLDER)\n",
    "\n",
    "list_dir_original    = os.listdir(root_folder_video_original)\n",
    "list_dir_manipulated = os.listdir(root_folder_video_manipulated)"
   ]
  },
  {
   "cell_type": "code",
   "execution_count": null,
   "metadata": {},
   "outputs": [],
   "source": [
    "FRAME_STRIDE=5   #number of frame discharged before saving 1 frame\n",
    "\n",
    "\n",
    "def save_all_frame_from_video(video_path, img_dir_path):\n",
    "    currentFrame = 0\n",
    "    name_video_file=video_path.split('/')[-1]\n",
    "    output_dir_path=os.path.join(img_dir_path,name_video_file)\n",
    "    vidcap = cv.VideoCapture(video_path)\n",
    "    hasFrames, frame = vidcap.read()\n",
    "    frame_stride_count=0\n",
    "    \n",
    "    # For saving the frame in a folder\n",
    "    try:\n",
    "        if not os.path.exists(output_dir_path) :\n",
    "            os.makedirs(output_dir_path)\n",
    "            print(\"Directory '% s' created\" % { output_dir_path }) \n",
    "\n",
    "            while hasFrames:\n",
    "                if frame_stride_count==FRAME_STRIDE:\n",
    "                    name = output_dir_path+'/' + str(currentFrame) + '.jpg'\n",
    "                    cv.imwrite(name, frame)     # save frame as JPEG file      \n",
    "                    hasFrames,frame = vidcap.read()\n",
    "                    currentFrame += 1\n",
    "                    frame_stride_count=1\n",
    "                else:\n",
    "                    hasFrames,frame = vidcap.read()\n",
    "                    currentFrame += 1\n",
    "                    frame_stride_count +=1\n",
    "    except OSError:\n",
    "        print (f\"Error: Directory not created: { output_dir_path }\")\n",
    "        raise \n",
    "    \n",
    "    vidcap.release()\n",
    " "
   ]
  },
  {
   "cell_type": "code",
   "execution_count": null,
   "metadata": {},
   "outputs": [],
   "source": [
    "#                                  Uncomment to campionize the video\n",
    "\n",
    "for directory_path in list_dir_original:  \n",
    "    for video in os.listdir(os.path.join(root_folder_video_original,directory_path)):\n",
    "        save_all_frame_from_video(\n",
    "            os.path.join(root_folder_video_original, directory_path,video), IMG_ORIGINAL_FOLDER)\n",
    "\n",
    "for directory_path in list_dir_manipulated:       \n",
    "    for video in os.listdir(os.path.join(root_folder_video_manipulated,directory_path)):\n",
    "        save_all_frame_from_video(\n",
    "            os.path.join(root_folder_video_manipulated, directory_path, video), IMG_MANIPULATED_FOLDER)\n",
    "        "
   ]
  },
  {
   "cell_type": "code",
   "execution_count": null,
   "metadata": {},
   "outputs": [],
   "source": []
  },
  {
   "cell_type": "code",
   "execution_count": null,
   "metadata": {},
   "outputs": [],
   "source": []
  },
  {
   "cell_type": "code",
   "execution_count": null,
   "metadata": {},
   "outputs": [],
   "source": []
  },
  {
   "cell_type": "code",
   "execution_count": null,
   "metadata": {},
   "outputs": [],
   "source": []
  },
  {
   "cell_type": "code",
   "execution_count": null,
   "metadata": {},
   "outputs": [],
   "source": []
  },
  {
   "cell_type": "code",
   "execution_count": null,
   "metadata": {},
   "outputs": [],
   "source": []
  },
  {
   "cell_type": "code",
   "execution_count": null,
   "metadata": {},
   "outputs": [],
   "source": []
  },
  {
   "cell_type": "code",
   "execution_count": null,
   "metadata": {},
   "outputs": [],
   "source": []
  },
  {
   "cell_type": "code",
   "execution_count": null,
   "metadata": {},
   "outputs": [],
   "source": []
  },
  {
   "cell_type": "code",
   "execution_count": null,
   "metadata": {},
   "outputs": [],
   "source": []
  },
  {
   "cell_type": "code",
   "execution_count": null,
   "metadata": {},
   "outputs": [],
   "source": []
  },
  {
   "cell_type": "code",
   "execution_count": null,
   "metadata": {},
   "outputs": [],
   "source": []
  },
  {
   "cell_type": "code",
   "execution_count": null,
   "metadata": {},
   "outputs": [],
   "source": []
  }
 ],
 "metadata": {
  "kernelspec": {
   "display_name": "Python 3",
   "language": "python",
   "name": "python3"
  },
  "language_info": {
   "codemirror_mode": {
    "name": "ipython",
    "version": 3
   },
   "file_extension": ".py",
   "mimetype": "text/x-python",
   "name": "python",
   "nbconvert_exporter": "python",
   "pygments_lexer": "ipython3",
   "version": "3.7.6"
  }
 },
 "nbformat": 4,
 "nbformat_minor": 4
}
