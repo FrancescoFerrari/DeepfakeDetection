{
 "cells": [
  {
   "cell_type": "code",
   "execution_count": 6,
   "metadata": {
    "scrolled": true
   },
   "outputs": [
    {
     "name": "stderr",
     "output_type": "stream",
     "text": [
      "Using TensorFlow backend.\n"
     ]
    }
   ],
   "source": [
    "import numpy as np\n",
    "import pandas as pd\n",
    "import os\n",
    "import matplotlib\n",
    "import matplotlib.pyplot as plt\n",
    "%matplotlib inline\n",
    "from random import randrange\n",
    "import cv2 as cv\n",
    "\n",
    "from tensorflow import keras\n",
    "from keras.layers import *\n",
    "from keras.models import Sequential\n",
    "from keras import optimizers\n"
   ]
  },
  {
   "cell_type": "code",
   "execution_count": null,
   "metadata": {},
   "outputs": [],
   "source": [
    "DATA_FOLDER='/home/fra/Scrivania/Deepfake-Detection/dataset/kaggle'\n",
    "\n",
    "DATA_RAW= 'raw_data'\n",
    "TEST_FOLDER='test_video'\n",
    "#input folder kaggle\n",
    "ORIGINAL_FOLDER='original'\n",
    "MANIPULATED_FOLDER='fake'\n",
    "\n",
    "#output folder preprocess google\n",
    "IMG_ORIGINAL_FOLDER  ='/home/fra/Scrivania/Deepfake-Detection/dataset/kaggle/preprocess-output/real_png'\n",
    "IMG_MANIPULATED_FOLDER='/home/fra/Scrivania/Deepfake-Detection/dataset/kaggle/preprocess-output/fake_png'\n",
    "IMG_TEST_FOLDER='/home/fra/Scrivania/Deepfake-Detection/dataset/kaggle/preprocess-output/test_png'"
   ]
  },
  {
   "cell_type": "code",
   "execution_count": null,
   "metadata": {},
   "outputs": [],
   "source": [
    "#load  video\n",
    "\n",
    "raw_data_folder=os.path.join(DATA_FOLDER, DATA_RAW)\n",
    "\n",
    "root_folder_video_original=os.path.join(DATA_FOLDER, ORIGINAL_FOLDER)\n",
    "root_folder_video_manipulated=os.path.join(DATA_FOLDER, MANIPULATED_FOLDER)\n",
    "root_folder_test=os.path.join(DATA_FOLDER, TEST_FOLDER)\n",
    "\n",
    "list_dir_original    = os.listdir(root_folder_video_original)\n",
    "list_dir_manipulated = os.listdir(root_folder_video_manipulated)\n",
    "\n",
    "train_list = list(os.listdir(raw_data_folder))\n",
    "test_list=os.listdir(root_folder_test)\n",
    "\n",
    "print(f\"Train samples: {len(train_list) }\")\n",
    "print(f\"Test samples: {len(os.listdir(root_folder_test))}\")"
   ]
  },
  {
   "cell_type": "code",
   "execution_count": null,
   "metadata": {},
   "outputs": [],
   "source": [
    "json_file = [file for file in train_list if  file.endswith('json')][0]\n",
    "print(f\"JSON TRAIN file: {json_file}\")\n",
    "\n",
    "\n",
    "json_test_file=[file for file in test_list if  file.endswith('json')][0]\n",
    "print(f\"JSON TEST file: {json_file}\")\n",
    "\n",
    "\n",
    "storage = np.array([file for file in train_list if  file.endswith('mp4')])\n",
    "len(storage)"
   ]
  },
  {
   "cell_type": "code",
   "execution_count": null,
   "metadata": {},
   "outputs": [],
   "source": [
    "def get_meta_from_json(path):\n",
    "    df = pd.read_json(os.path.join(DATA_FOLDER, path, json_file))\n",
    "    df = df.T\n",
    "    return df\n",
    "\n",
    "meta_train_df = get_meta_from_json(DATA_RAW)\n",
    "meta_train_df.head()"
   ]
  },
  {
   "cell_type": "code",
   "execution_count": null,
   "metadata": {},
   "outputs": [],
   "source": [
    "#Let's dividing Real video and Fake video\n",
    "\n",
    "for video in storage:\n",
    "    if meta_train_df.loc[video].label=='REAL':\n",
    "        shutil.move(os.path.join(raw_data_folder,video),\n",
    "                    '/home/fra/Scrivania/Deepfake-Detection/dataset/kaggle/original/'+video)    \n",
    "    else:       \n",
    "        shutil.move(os.path.join(raw_data_folder,video),\n",
    "                    '/home/fra/Scrivania/Deepfake-Detection/dataset/kaggle/fake/'+video)\n"
   ]
  },
  {
   "cell_type": "code",
   "execution_count": null,
   "metadata": {},
   "outputs": [],
   "source": [
    "storage_fake = np.array([file for file in list_dir_original if  file.endswith('mp4')])\n",
    "storage_real=np.array([file for file in list_dir_manipulated if  file.endswith('mp4')])\n",
    "\n",
    "print( len(storage_fake),len(storage_real), len(storage_fake)+len(storage_real) )"
   ]
  },
  {
   "cell_type": "code",
   "execution_count": null,
   "metadata": {},
   "outputs": [],
   "source": [
    "FRAME_STRIDE=5   #number of frame discharged before saving 1 frame\n",
    "\n",
    "\n",
    "def save_all_frame_from_video(video_path, img_dir_path):\n",
    "    currentFrame = 0\n",
    "    name_video_file=video_path.split('/')[-1]\n",
    "    output_dir_path=os.path.join(img_dir_path,name_video_file)\n",
    "    vidcap = cv.VideoCapture(video_path)\n",
    "    hasFrames, frame = vidcap.read()\n",
    "    frame_stride_count=0\n",
    "    \n",
    "    # For saving the frame in a folder\n",
    "    try:\n",
    "        if not os.path.exists(output_dir_path) :\n",
    "            os.makedirs(output_dir_path)\n",
    "            print(\"Directory '% s' created\" % { output_dir_path }) \n",
    "\n",
    "            while hasFrames:\n",
    "                if frame_stride_count==FRAME_STRIDE:\n",
    "                    name = output_dir_path+'/' + str(currentFrame) + '.jpg'\n",
    "                    cv.imwrite(name, frame)     # save frame as JPEG file      \n",
    "                    hasFrames,frame = vidcap.read()\n",
    "                    currentFrame += 1\n",
    "                    frame_stride_count=1\n",
    "                else:\n",
    "                    hasFrames,frame = vidcap.read()\n",
    "                    currentFrame += 1\n",
    "                    frame_stride_count +=1\n",
    "    except OSError:\n",
    "        print (f\"Error: Directory not created: { output_dir_path }\")\n",
    "        raise \n",
    "    \n",
    "    vidcap.release()\n",
    " "
   ]
  },
  {
   "cell_type": "code",
   "execution_count": null,
   "metadata": {},
   "outputs": [],
   "source": [
    "#                                  Uncomment to campionize the video\n",
    "\n",
    "for video in list_dir_original:\n",
    "    save_all_frame_from_video(\n",
    "            os.path.join(root_folder_video_original, video), IMG_ORIGINAL_FOLDER)\n",
    "\n",
    "for video in list_dir_manipulated:\n",
    "    save_all_frame_from_video(\n",
    "            os.path.join(root_folder_video_manipulated, video), IMG_MANIPULATED_FOLDER)\n",
    "    \n",
    "for video in test_list:\n",
    "    save_all_frame_from_video(\n",
    "            os.path.join(root_folder_test, video), IMG_TEST_FOLDER)\n",
    "        "
   ]
  },
  {
   "cell_type": "code",
   "execution_count": null,
   "metadata": {},
   "outputs": [],
   "source": []
  },
  {
   "cell_type": "code",
   "execution_count": null,
   "metadata": {},
   "outputs": [],
   "source": []
  },
  {
   "cell_type": "code",
   "execution_count": null,
   "metadata": {},
   "outputs": [],
   "source": []
  },
  {
   "cell_type": "code",
   "execution_count": null,
   "metadata": {},
   "outputs": [],
   "source": []
  }
 ],
 "metadata": {
  "kernelspec": {
   "display_name": "Python 3",
   "language": "python",
   "name": "python3"
  },
  "language_info": {
   "codemirror_mode": {
    "name": "ipython",
    "version": 3
   },
   "file_extension": ".py",
   "mimetype": "text/x-python",
   "name": "python",
   "nbconvert_exporter": "python",
   "pygments_lexer": "ipython3",
   "version": "3.7.6"
  }
 },
 "nbformat": 4,
 "nbformat_minor": 4
}
